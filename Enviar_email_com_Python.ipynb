{
  "nbformat": 4,
  "nbformat_minor": 0,
  "metadata": {
    "colab": {
      "name": "Enviar_email_com_Python.ipynb",
      "provenance": [],
      "authorship_tag": "ABX9TyPZZZnXzi3TYGXadIr8tbOZ",
      "include_colab_link": true
    },
    "kernelspec": {
      "name": "python3",
      "display_name": "Python 3"
    },
    "language_info": {
      "name": "python"
    }
  },
  "cells": [
    {
      "cell_type": "markdown",
      "metadata": {
        "id": "view-in-github",
        "colab_type": "text"
      },
      "source": [
        "<a href=\"https://colab.research.google.com/github/paulohenriqueviegasmartins/Enviar_Email_com_Python/blob/main/Enviar_email_com_Python.ipynb\" target=\"_parent\"><img src=\"https://colab.research.google.com/assets/colab-badge.svg\" alt=\"Open In Colab\"/></a>"
      ]
    },
    {
      "cell_type": "markdown",
      "metadata": {
        "id": "RN844lUJSfwW"
      },
      "source": [
        "## **Enviar e-mail com Pyhton e HTML**"
      ]
    },
    {
      "cell_type": "markdown",
      "metadata": {
        "id": "z09Z3qeISw_V"
      },
      "source": [
        "Neste projeto, criamos a automatização do envio de dados estratégicos para diversas unidades de um hospital. Para tanto, utilizamos Python e HTML. Também enviamos no corpo do email uma imagem sobre o tema.\n",
        "\n",
        "Cabe ressaltar que para que esse código seja plenamente executado, é necessário realizar algumas configurações específicas no e-mail do gmail."
      ]
    },
    {
      "cell_type": "markdown",
      "metadata": {
        "id": "DqorL6DLStkV"
      },
      "source": [
        "Importar as bibliotecas que vamos utilizar"
      ]
    },
    {
      "cell_type": "code",
      "metadata": {
        "id": "CHSiAk5dSrlF"
      },
      "source": [
        "import smtplib, ssl\n",
        "from email.mime.text import MIMEText\n",
        "from email.mime.multipart import MIMEMultipart\n",
        "from email.mime.image import MIMEImage\n",
        "import imghdr\n",
        "from email.message import EmailMessage\n",
        "import base64"
      ],
      "execution_count": null,
      "outputs": []
    },
    {
      "cell_type": "markdown",
      "metadata": {
        "id": "_U2cKZ4GTfRw"
      },
      "source": [
        "Configuração das informações e do corpo do texto."
      ]
    },
    {
      "cell_type": "code",
      "metadata": {
        "id": "PnpltJFjSeqe"
      },
      "source": [
        "# conexão com os servidores do google\n",
        "smtp_ssl_host = 'smtp.gmail.com'\n",
        "smtp_ssl_port = 465\n",
        "\n",
        "# Configurações iniciais para o envio do email\n",
        "sender_email = \"myboxnumber1@gmail.com\"\n",
        "receiver_email = \"myboxnumber1@gmail.com\"\n",
        "password = \"Ph19872021@@**\"\n",
        "\n",
        "message = MIMEMultipart(\"alternative\")\n",
        "message[\"Subject\"] = \"Metas Estratégicas\"\n",
        "message[\"From\"] = \"myboxnumber1@gmail.com\"\n",
        "message[\"To\"] = \"myboxnumber1@gmail.com\"\n",
        "\n",
        "# A imagem deve estar no diretório que você está utilizando\n",
        "fp = open('image_teste.jpg', 'rb')\n",
        "image = MIMEImage(fp.read())\n",
        "fp.close()\n",
        "\n",
        "# Utilizando o Encode com o Base64\n",
        "encoded = base64.b64encode(open(\"image_teste.jpg\", \"rb\").read())\n",
        "\n",
        "# Specify the  ID according to the img src in the HTML part\n",
        "image.add_header('Content-ID', '<image_teste2>')\n",
        "message.attach(image)\n",
        "\n",
        "text = \"Exemplo de texto\"\n",
        "\n",
        "html = f\"\"\"\\\n",
        "<html>\n",
        "  <body>\n",
        "    <img src=\"data:image/jpg;base64,{encoded}\">\n",
        "    <img src=\"cid:image_teste2\">\n",
        "    <p>Prezados,<br>\n",
        "       <br>\n",
        "       Estamos enviando anexo o planejamento do nosso hospital para os próximos 5 anos.<br>\n",
        "       <br>\n",
        "       Algumas das nossas metas estratégicas para esse período:<br>\n",
        "       <br>\n",
        "       <table style=\"width: 50%; border-collapse: collapse; height: 128px;\">\n",
        "       <tbody>\n",
        "       <tr style=\"height: 18px;background-color: lightgreen;\">\n",
        "       <th style=\"width: 47.6478%; height: 18px;\"><b> Rentabilidade </td>\n",
        "       <td style=\"width: 3.49461%; background-color: white; height: 18px;\">&nbsp;</td>\n",
        "       <th style=\"width: 48.8575%; height: 18px;\"><b> Quantidade de clientes </td>\n",
        "       </tr>\n",
        "       <tr style=\"height: 18px;background-color: lightgreen;\">\n",
        "       <th style=\"width: 47.6478%; height: 18px;\"><b> 130% do CDI </td>\n",
        "       <td style=\"width: 3.49461%; background-color: white; height: 18px;\">&nbsp;</td>\n",
        "       <th style=\"width: 48.8575%; height: 18px;\"><b> 82.298 </td>\n",
        "       </tr>\n",
        "       <tr style=\"height: 5px; background-color: white;\">\n",
        "       <td style=\"width: 47.6478%; height: 10px;\">&nbsp;</td>\n",
        "       <td style=\"width: 3.49461%; background-color: white; height: 10px;\">&nbsp;</td>\n",
        "       <td style=\"width: 48.8575%; height: 10px;\">&nbsp;</td>\n",
        "       </tr>\n",
        "       <tr style=\"height: 18px;background-color: lightblue;\">\n",
        "       <th style=\"width: 47.6478%; height: 18px;\"><b> Tempo médio de internação </td>\n",
        "       <td style=\"width: 3.49461%; background-color: white; height: 18px;\">&nbsp;</td>\n",
        "       <th style=\"width: 48.8575%; height: 18px;\"><b> Valor de OPME mensal </td>\n",
        "       </tr>\n",
        "       <tr style=\"height: 18px;background-color: lightblue;\">\n",
        "       <th style=\"width: 47.6478%; height: 18px;\"><b>15 dias </td>\n",
        "       <td style=\"width: 3.49461%; background-color: white; height: 18px;\">&nbsp;</td>\n",
        "       <th style=\"width: 48.8575%; height: 18px;\"><b> R$890.000,00 </td>\n",
        "       </tr>\n",
        "       <tr style=\"background-color: white; height: 5px;\">\n",
        "       <td style=\"width: 47.6478%; height: 10px;\">&nbsp;</td>\n",
        "       <td style=\"width: 3.49461%; background-color: white; height: 10px;\">&nbsp;</td>\n",
        "       <td style=\"width: 48.8575%; height: 10px;\">&nbsp;</td>\n",
        "       </tr>\n",
        "       <tr style=\"height: 18px;background-color: lightgray;\">\n",
        "       <th style=\"width: 47.6478%; height: 18px;\"><b> Leitos Adulto </td>\n",
        "       <td style=\"width: 3.49461%; background-color: white; height: 18px;\">&nbsp;</td>\n",
        "       <th style=\"width: 48.8575%; height: 18px;\"><b> Leitos SUS </td>\n",
        "       </tr>\n",
        "       <tr style=\"height: 18px;background-color: lightgray;\">\n",
        "       <th style=\"width: 47.6478%; height: 18px;\"><b> 1109  </td>\n",
        "       <td style=\"width: 3.49461%; background-color: white; height: 18px;\">&nbsp;</td>\n",
        "       <th style=\"width: 48.8575%; height: 18px;\"><b> 876 </td>\n",
        "       </tr>\n",
        "       </tbody>\n",
        "       </table>\n",
        "       <p>&nbsp;</p>\n",
        "       Atenciosamente,<br>\n",
        "       <br>\n",
        "       <b><font color=\"blue\">Paulo Martins <br>\n",
        "       Cientista de Dados <br>\n",
        "       Hospital Original <br>\n",
        "       R. São Miguel, 632 - Itapoã,<br>\n",
        "       Belo Horizonte - MG, 31710-750<br>\n",
        "       <b><font color=\"blue\">Contato: phviegasmartins@gmail.com\n",
        "       </p>\n",
        "  </body>\n",
        "</html>\n",
        "\"\"\"\n",
        "\n",
        "# Turn these into plain/html MIMEText objects\n",
        "part1 = MIMEText(text, \"plain\")\n",
        "part2 = MIMEText(html, \"html\")\n",
        "\n",
        "# Add HTML/plain-text parts to MIMEMultipart message\n",
        "# The email client will try to render the last part first\n",
        "message.attach(part1)\n",
        "message.attach(part2)\n",
        "\n",
        "# Create secure connection with server and send email\n",
        "context = ssl.create_default_context()\n",
        "with smtplib.SMTP_SSL(\"smtp.gmail.com\", 465, context=context) as server:\n",
        "    server.login(sender_email, password)\n",
        "    server.sendmail(\n",
        "        sender_email, receiver_email, message.as_string()\n",
        "    )\n",
        "\n",
        "with smtplib.SMTP(host='smtp.gmail.com', port=587) as smtp:\n",
        "    try:\n",
        "        smtp.ehlo()\n",
        "        smtp.starttls()\n",
        "        smtp.login(sender_email, password)\n",
        "        print('E-mail enviado com sucesso.')\n",
        "    except Exception as e:\n",
        "        print('E-mail não enviado...')\n",
        "        print('Erro:', e)"
      ],
      "execution_count": null,
      "outputs": []
    }
  ]
}